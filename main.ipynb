{
 "cells": [
  {
   "cell_type": "markdown",
   "metadata": {},
   "source": [
    "1. Oznaczenie klasoużytku przyjmuje wartość OFU w przypadku: \n",
    "1) gruntów, które nie podlegają gleboznawczej klasyfikacji gruntów, tj. oznaczonych jako \n",
    "użytki gruntowe o OFU = B, Ba, Bi, Bp, Bz, K, dr, Tk, Ti, Tp, Wm, Wp, Ws oraz Tr, \n",
    "2)  gruntów  rolnych  lub  gruntów  leśnych,  które  podlegają  gleboznawczej  klasyfikacji \n",
    "gruntów,  ale  w  odniesieniu  do  których  taka  klasyfikacja  nie  została  przeprowadzona; \n",
    "dotyczy to w szczególności użytków gruntowych o wartości OFU = Ls, Lz, N. \n",
    "2.  Oznaczenie  klasoużytku  przyjmuje  postać  składającą  się  z  dwóch  usytuowanych \n",
    "kolejno elementów: OZU oraz OZK, jeżeli OFU jest równe OZU. \n",
    "3. Oznaczenie klasoużytku przyjmuje postać składającą się z trzech usytuowanych kolejno \n",
    "elementów:  OFU,  OZU  oraz  OZK,  jeżeli  OFU  jest  różne  od  OZU;  element  OFU  jest  \n",
    "oddzielony od elementu OZU myślnikiem. \n",
    "\n",
    "Dla OZU = Ł, Ps, Ls, Lz, OZK przyjmuje jedną z następujących wartości: I, II, III, IV, V, \n",
    "VI. Dla OZU = R, OZK przyjmuje jedną z następujących wartości: I, II, IIIa, IIIb, IVa, \n",
    "IVb, V, VI, VIz.\n",
    "\n",
    "\n",
    "Kontur klasyfikacyjny obejmuje tylko kontury użytków gruntowych o oznaczeniach OFU \n",
    "= R, S, Ł, Ps, Br, Wsr, W, Lzr, Ls, Lz.\n",
    "\n",
    "Przyjęcie przez OFU wartości: ('R' lub 'S' lub 'Br' lub 'Wsr' lub 'W' lub 'Lzr') i przez OZU \n",
    "wartości 'R' powoduje, że OZK może przyjąć jedną z wartości ('I' lub 'II' lub 'IIIa' lub 'IIIb' \n",
    "lub 'IVa' lub 'IVb' lub 'V' lub 'VI' lub 'VIz'). \n",
    "\n",
    "Przyjęcie przez OFU wartości: ('Ł' lub 'S' lub 'Br' lub 'Wsr' lub 'W' lub 'Lzr') i przez OZU \n",
    "wartości 'Ł' lub przyjęcie przez OFU wartości ('Ps' lub 'S' lub 'Br' lub 'Wsr' lub 'W' lub \n",
    "'Lzr') i przez OZU wartości 'Ps' lub przyjęcie przez OFU wartości ('Ls' lub 'W') i przez \n",
    "OZU wartości 'Ls' lub przyjęcie przez OFU wartości ('Lz' lub 'W') i przez OZU wartości \n",
    "'Lz' powoduje, że OZK może przyjąć jedną z wartości ('I' lub 'II' lub 'III' lub 'IV' lub 'V' \n",
    "lub 'VI').\n",
    "\n",
    "[A-Z]{2}[1-9]{1}[A-Z]{1}/[0-9]{8}/[0-9]{1} "
   ]
  },
  {
   "cell_type": "markdown",
   "metadata": {},
   "source": [
    "| OZU                                                 | OFU  | OZK |\n",
    "| --------------------------------------------------- | ---- | --- | \n",
    "| - | B, Ba, Bi, Bp, Bz, K, dr, Tk, Ti, Tp, Wm, Wp, Ws, Tr | - | \n",
    "| - | Ls, Lz, N | - | \n",
    "| R | - | I, II, IIIa, IIIb, IVa, IVb, V, VI, VIz | \n",
    "| R | S, Br, Wsr, W, Lzr | I, II, IIIa, IIIb, IVa, IVb, V, VI, VIz | \n",
    "| Ł, Ps, Ls, Lz | - | I, II, III, IV, V, VI | \n",
    "| Ł, Ps | S, Br, Wsr, W, Lzr | I, II, III, IV, V, VI|\n",
    "| Ls, Lz | W | I, II, III, IV, V, VI|"
   ]
  },
  {
   "cell_type": "code",
   "execution_count": null,
   "metadata": {},
   "outputs": [],
   "source": [
    "ofu_nieklasyfikowane = ['B', 'Ba', 'Bi', 'Bp', 'Bz', 'K', 'dr', 'Tk', 'Ti', 'Tp', 'Wm', 'Wp', 'Ws', 'Tr']\n",
    "ozk_dla_ozu_rownego_r = ['I', 'II', 'IIIa', 'IIIb', 'IVa', 'IVb', 'V', 'VI', 'VIz']\n",
    "ozk_dla_ozu_rownego_l_ps_ls_lz = ['I', 'II', 'III', 'IV', 'V', 'VI']\n",
    "\n",
    "#do 10ha sprawdź czy las ma klasę   "
   ]
  },
  {
   "cell_type": "code",
   "execution_count": 20,
   "metadata": {},
   "outputs": [
    {
     "name": "stdout",
     "output_type": "stream",
     "text": [
      "194\n"
     ]
    }
   ],
   "source": [
    "import numpy as np\n",
    "\n",
    "kontury = \"dane\\Kontury_eksport_dz.txt\"\n",
    "\n",
    "data = np.array([])\n",
    "\n",
    "with open(kontury, mode='r') as file:\n",
    "    for line in file:\n",
    "        data = np.append(data, line.strip())\n",
    "\n",
    "codes = []\n",
    "\n",
    "i = 0\n",
    "while (i+2) < len(data):\n",
    "    code = data[i]\n",
    "    num_of_lines = int(data[i+2])\n",
    "    codes.append(code)\n",
    "    i += num_of_lines + 4"
   ]
  }
 ],
 "metadata": {
  "kernelspec": {
   "display_name": "Python 3",
   "language": "python",
   "name": "python3"
  },
  "language_info": {
   "codemirror_mode": {
    "name": "ipython",
    "version": 3
   },
   "file_extension": ".py",
   "mimetype": "text/x-python",
   "name": "python",
   "nbconvert_exporter": "python",
   "pygments_lexer": "ipython3",
   "version": "3.11.3"
  }
 },
 "nbformat": 4,
 "nbformat_minor": 2
}
